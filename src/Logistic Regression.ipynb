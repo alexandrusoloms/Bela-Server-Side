{
 "cells": [
  {
   "cell_type": "code",
   "execution_count": 2,
   "metadata": {},
   "outputs": [],
   "source": [
    "import os\n",
    "\n",
    "import numpy as np\n",
    "import pandas as pd\n",
    "from matplotlib import pyplot as plt\n",
    "\n",
    "from Spectrogram import Spectrogram\n",
    "\n",
    "from sklearn.linear_model import LinearRegression"
   ]
  },
  {
   "cell_type": "code",
   "execution_count": 4,
   "metadata": {},
   "outputs": [],
   "source": [
    "def make_path(path_name):\n",
    "    return os.path.join(os.path.dirname(\"__file__\"), \"\", ) + path_name"
   ]
  },
  {
   "cell_type": "code",
   "execution_count": 9,
   "metadata": {},
   "outputs": [],
   "source": [
    "def make_batches(list_of_items, number_of_batches):\n",
    "    \"\"\"\n",
    "    separate a list of items into `number_of_batches parts\n",
    "\n",
    "    :param list_of_items: [\n",
    "                            object1,\n",
    "                            object2,\n",
    "                            object3,\n",
    "                            ...\n",
    "                          ]\n",
    "    :param number_of_batches: <int> / <floats>\n",
    "    :return:\n",
    "    \"\"\"\n",
    "    return [list_of_items[i:i + number_of_batches] for i in range(0, len(list_of_items), number_of_batches)]"
   ]
  },
  {
   "cell_type": "code",
   "execution_count": null,
   "metadata": {},
   "outputs": [],
   "source": [
    "class YieldDataset(object):\n",
    "    \n",
    "    @classmethod\n",
    "    def yield_from_paths(cls, data_paths, batch_num=1000):\n",
    "        \n",
    "        files_full_path = tuple(data_path + file  \n",
    "                           for data_path in data_paths \n",
    "                           for file in os.listdir(data_path))\n",
    "        batches  = make_batches(list_of_items=files_full_path,\n",
    "                               number_of_batches=batch_num)\n",
    "        "
   ]
  }
 ],
 "metadata": {
  "kernelspec": {
   "display_name": "Python 3",
   "language": "python",
   "name": "python3"
  },
  "language_info": {
   "codemirror_mode": {
    "name": "ipython",
    "version": 3
   },
   "file_extension": ".py",
   "mimetype": "text/x-python",
   "name": "python",
   "nbconvert_exporter": "python",
   "pygments_lexer": "ipython3",
   "version": "3.6.8"
  }
 },
 "nbformat": 4,
 "nbformat_minor": 2
}
