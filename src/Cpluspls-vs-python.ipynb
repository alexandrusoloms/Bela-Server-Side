{
 "cells": [
  {
   "cell_type": "code",
   "execution_count": 5,
   "metadata": {},
   "outputs": [],
   "source": [
    "import os\n",
    "\n",
    "import numpy as np\n",
    "import pandas as pd\n",
    "from matplotlib import pyplot as plt\n",
    "\n",
    "from Spectrogram import Spectrogram"
   ]
  },
  {
   "cell_type": "code",
   "execution_count": null,
   "metadata": {},
   "outputs": [],
   "source": [
    "def make_data_path(path_name):\n",
    "    return os.path.join(os.path.dirname(\"__file__\"), \"\", ) + path_name"
   ]
  },
  {
   "cell_type": "code",
   "execution_count": null,
   "metadata": {},
   "outputs": [],
   "source": [
    "data_paths = [\n",
    "    make_data_path(path_name=\"/homes/amsolomes1/birdSongData/ff1010bird/txt/\"),\n",
    "    make_data_path(path_name=\"/homes/amsolomes1/birdSongData/warblrb10k/txt/\"),\n",
    "]"
   ]
  },
  {
   "cell_type": "code",
   "execution_count": null,
   "metadata": {},
   "outputs": [],
   "source": [
    "indices = np.random.randint(low=0, high=len(os.listdir(data_paths[0])), size=10)\n",
    "correct = 0\n",
    "for ind in indices:\n",
    "    file_name = os.listdir(data_paths[0])[ind]\n",
    "    with open(data_paths[0] + file_name, \"r\") as handle:\n",
    "        spectrogram_data = handle.read().split()\n",
    "    \n",
    "    spectrogram_data = [eval(x) for x in spectrogram_data]\n",
    "    spectrogram_data = np.array(spectrogram_data).reshape(shape)\n",
    "    \n",
    "    #python\n",
    "    spec = Spectrogram(data_paths[0] + file_name)\n",
    "    python_spectrogram = spec.process()\n",
    "    \n",
    "    plt.figure(figsize=(40, 20))\n",
    "    plt.title(\"Python\")\n",
    "    plt.imshow(python_spectrogram.T)\n",
    "    plt.show()\n",
    "    \n",
    "    # Cplusplus\n",
    "    plt.figure(figsize=(40, 20))\n",
    "    plt.title(\"Cplusplus\")\n",
    "    plt.imshow(spectrogram_data.T)\n",
    "    plt.show()\n",
    "    \n",
    "    # diff\n",
    "    plt.figure(figsize=(40, 20))\n",
    "    plt.title(\"Cplusplus\")\n",
    "    plt.imshow(python_spectrogram.T - spectrogram_data.T)\n",
    "    plt.show()"
   ]
  },
  {
   "cell_type": "code",
   "execution_count": null,
   "metadata": {},
   "outputs": [],
   "source": []
  }
 ],
 "metadata": {
  "kernelspec": {
   "display_name": "Python 3",
   "language": "python",
   "name": "python3"
  },
  "language_info": {
   "codemirror_mode": {
    "name": "ipython",
    "version": 3
   },
   "file_extension": ".py",
   "mimetype": "text/x-python",
   "name": "python",
   "nbconvert_exporter": "python",
   "pygments_lexer": "ipython3",
   "version": "3.6.8"
  }
 },
 "nbformat": 4,
 "nbformat_minor": 2
}
